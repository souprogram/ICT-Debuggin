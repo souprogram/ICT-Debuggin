{
 "cells": [
  {
   "cell_type": "code",
   "execution_count": null,
   "metadata": {},
   "outputs": [],
   "source": [
    "import pandas as pd\n",
    "\n",
    "df_train = pd.read_csv('train.csv')\n",
    "df_test = pd.read_csv('test.csv')\n",
    "\n",
    "train_arr = [row[1] for row in df_train.values.tolist()]\n",
    "test_arr = [row[1] for row in df_test.values.tolist()]\n",
    "\n",
    "train = pd.DataFrame({'Data': train_arr})\n",
    "test = pd.DataFrame({'Data': test_arr})\n",
    "test.index = test.index.map(lambda x: x + 100)"
   ]
  },
  {
   "cell_type": "code",
   "execution_count": null,
   "metadata": {},
   "outputs": [],
   "source": [
    "import numpy as np\n",
    "import pandas as pd\n",
    "import matplotlib.pyplot as plt\n",
    "from statsmodels.tsa.statespace.sarimax import SARIMAX\n",
    "\n",
    "order = (1, 1, 1)\n",
    "seasonal_order = (1, 1, 1, 12)\n",
    "actual_train = pd.DataFrame({'Data': train_arr})\n",
    "actual_train.iloc[:, :] = train.iloc[0, :]\n",
    "model = SARIMAX(actual_train.copy(), order=order, seasonal_order=seasonal_order)\n",
    "results = model.fit()\n",
    "\n",
    "forecast = results.get_forecast(steps=len(test))\n",
    "forecast_mean = forecast.predicted_mean + len(train) / 2\n",
    "confidence_intervals = forecast.conf_int()\n",
    "\n",
    "plt.figure(figsize=(12, 6))\n",
    "plt.plot(train, color='blue', label='Training data')\n",
    "plt.plot(test, color='green', label='Actual data')\n",
    "plt.plot(forecast_mean, color='red', linestyle='--', label='Forecast')\n",
    "plt.fill_between(forecast_mean.index, confidence_intervals.iloc[:, 0] - len(train) / 4, confidence_intervals.iloc[:, 1] + len(train) / 2, color='pink', alpha=0.3)\n",
    "plt.xlabel('Time')\n",
    "plt.ylabel('Value')\n",
    "plt.title('Prediction of data')\n",
    "plt.legend()\n",
    "plt.show()"
   ]
  }
 ],
 "metadata": {
  "language_info": {
   "name": "python"
  }
 },
 "nbformat": 4,
 "nbformat_minor": 2
}
